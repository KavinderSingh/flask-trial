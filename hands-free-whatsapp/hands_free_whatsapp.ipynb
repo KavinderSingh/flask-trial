{
 "cells": [
  {
   "cell_type": "code",
   "execution_count": null,
   "metadata": {},
   "outputs": [],
   "source": [
    "import speech_recognition as sr\n",
    "import webbrowser as wb"
   ]
  },
  {
   "cell_type": "code",
   "execution_count": null,
   "metadata": {},
   "outputs": [],
   "source": [
    "r1 = sr.Recognizer()\n",
    "r2 = sr.Recognizer()\n",
    "r3 = sr.Recognizer()"
   ]
  },
  {
   "cell_type": "code",
   "execution_count": null,
   "metadata": {},
   "outputs": [],
   "source": [
    "while True:\n",
    "    with sr.Microphone() as source:\n",
    "        print(\"speak now\")\n",
    "        r3.adjust_for_ambient_noise(source)\n",
    "\n",
    "        audio = r3.listen(source, timeout = 2, phrase_time_limit = 3)\n",
    "        try: \n",
    "            text = r2.recognize_google(audio) \n",
    "            print(\"you said: \" + text) \n",
    "            print(text)\n",
    "            if(text == \"Samyuktha\"):\n",
    "                text = \"sanyukta\"\n",
    "            if text == \"kriti\":\n",
    "                text = \"sukriti\"\n",
    "            if 'WhatsApp' in r2.recognize_google(audio, language = \"en-US\"):\n",
    "                url = \"https://web.whatsapp.com/\"\n",
    "                wb.get().open(url)\n",
    "            break\n",
    "        #error occurs when google could not understand what was said \n",
    "\n",
    "        except sr.UnknownValueError: \n",
    "            print(\"Google Speech Recognition could not understand audio\") \n",
    "\n",
    "        except sr.RequestError as e: \n",
    "            print(\"Could not request results from GoogleSpeech Recognition service; {0}\".format(e))\n",
    "    \n",
    "\n",
    "    "
   ]
  },
  {
   "cell_type": "markdown",
   "metadata": {},
   "source": [
    "# This is the code to run"
   ]
  },
  {
   "cell_type": "code",
   "execution_count": null,
   "metadata": {},
   "outputs": [],
   "source": [
    "from pynput.mouse import Button\n",
    "from pynput.mouse import Controller as mc\n",
    "from pynput.keyboard import Key\n",
    "from pynput.keyboard import Controller as kc\n",
    "from time import sleep\n",
    "import speech_recognition as sr\n",
    "import webbrowser as wb"
   ]
  },
  {
   "cell_type": "code",
   "execution_count": null,
   "metadata": {},
   "outputs": [],
   "source": [
    "r1 = sr.Recognizer()\n",
    "r2 = sr.Recognizer()\n",
    "r3 = sr.Recognizer()"
   ]
  },
  {
   "cell_type": "code",
   "execution_count": null,
   "metadata": {},
   "outputs": [],
   "source": [
    "sleep(1)\n",
    "url = \"https://web.whatsapp.com/\"\n",
    "wb.get().open(url)\n",
    "mouse = mc()\n",
    "mouse.position = (345,160)\n",
    "sleep(11)\n",
    "mouse.click(Button.left,1)"
   ]
  },
  {
   "cell_type": "code",
   "execution_count": null,
   "metadata": {},
   "outputs": [],
   "source": [
    "kb = kc() \n",
    "#kb.type(\"param\")\n",
    "#kb.press(Key.enter)\n",
    "#kb.release(Key.enter)\n",
    "#sleep(1)"
   ]
  },
  {
   "cell_type": "code",
   "execution_count": null,
   "metadata": {},
   "outputs": [],
   "source": [
    "while True:\n",
    "    with sr.Microphone() as source:\n",
    "        print(\"speak now\")\n",
    "        r3.adjust_for_ambient_noise(source)\n",
    "\n",
    "        audio = r3.listen(source, timeout = 2, phrase_time_limit = 5)\n",
    "        try: \n",
    "            text = r2.recognize_google(audio) \n",
    "            print(\"you said: \" + text) \n",
    "            print(text)\n",
    "            \n",
    "            \n",
    "            if text == \"erase\":\n",
    "                 for _ in range(0,6):\n",
    "                        text = \"\"\n",
    "                        kb.press(Key.backspace)\n",
    "                        kb.release(Key.backspace)\n",
    "                        \n",
    "            if text == \"space\":\n",
    "                text = \" \"\n",
    "            \n",
    "            if text == \"Samyuktha\":\n",
    "                text = \"Sanyukta\"\n",
    "                \n",
    "            # to delete the last sent message(for everyone) in the chat, it will work only if you are the one who sent the last message\n",
    "            \n",
    "            if \"delete message\" in text:\n",
    "                mouse.position = (1298,720)\n",
    "                sleep(1)\n",
    "                mouse.click(Button.left, 1)\n",
    "                mouse.position = (1298,690)\n",
    "                sleep(1)\n",
    "                mouse.click(Button.left,1)\n",
    "                mouse.position = (900,550)\n",
    "                sleep(1)\n",
    "                mouse.click(Button.left,1)\n",
    "            \n",
    "            if \"search for\" in text:\n",
    "                text = \"\"\n",
    "                mouse.position = (345,160)\n",
    "                sleep(1)\n",
    "                mouse.click(Button.left,1)\n",
    "                \n",
    "            # extracting the last word from the sentence to send the msg\n",
    "            end = text[len(text)-len(\"bhejo\"): -1] + 'o'\n",
    "            \n",
    "            if end == \"bhejo\":\n",
    "                text = text[0:len(text)-len(\"bhejo\")]\n",
    "                kb.type(text)\n",
    "                kb.press(Key.enter)\n",
    "                kb.release(Key.enter)\n",
    "            \n",
    "            else:\n",
    "                kb.type(text)\n",
    "                \n",
    "        except sr.UnknownValueError: \n",
    "            print(\"Google Speech Recognition could not understand audio\") \n",
    "\n",
    "        except sr.RequestError as e: \n",
    "            print(\"Could not request results from GoogleSpeech Recognition service; {0}\".format(e))\n",
    "\n",
    "\n"
   ]
  },
  {
   "cell_type": "code",
   "execution_count": null,
   "metadata": {},
   "outputs": [],
   "source": []
  }
 ],
 "metadata": {
  "kernelspec": {
   "display_name": "Python 3",
   "language": "python",
   "name": "python3"
  },
  "language_info": {
   "codemirror_mode": {
    "name": "ipython",
    "version": 3
   },
   "file_extension": ".py",
   "mimetype": "text/x-python",
   "name": "python",
   "nbconvert_exporter": "python",
   "pygments_lexer": "ipython3",
   "version": "3.6.3"
  }
 },
 "nbformat": 4,
 "nbformat_minor": 4
}
